{
  "nbformat": 4,
  "nbformat_minor": 0,
  "metadata": {
    "colab": {
      "name": "Colaboratory에 오신 것을 환영합니다",
      "provenance": [],
      "collapsed_sections": [],
      "toc_visible": true,
      "include_colab_link": true
    },
    "kernelspec": {
      "display_name": "Python 3",
      "name": "python3"
    }
  },
  "cells": [
    {
      "cell_type": "markdown",
      "metadata": {
        "id": "view-in-github",
        "colab_type": "text"
      },
      "source": [
        "<a href=\"https://colab.research.google.com/github/deokyoung/Colab/blob/master/Colaboratory%EC%97%90_%EC%98%A4%EC%8B%A0_%EA%B2%83%EC%9D%84_%ED%99%98%EC%98%81%ED%95%A9%EB%8B%88%EB%8B%A4.ipynb\" target=\"_parent\"><img src=\"https://colab.research.google.com/assets/colab-badge.svg\" alt=\"Open In Colab\"/></a>"
      ]
    },
    {
      "cell_type": "markdown",
      "metadata": {
        "colab_type": "text",
        "id": "5fCEDCU_qrC0"
      },
      "source": [
        "<p><img alt=\"Colaboratory logo\" height=\"45px\" src=\"https://colab.research.google.com/img/colab_favicon.ico\" align=\"left\" hspace=\"10px\" vspace=\"0px\"></p>\n",
        "\n",
        "<h1>Colaboratory에 오신 것을 환영합니다</h1>\n",
        "\n",
        "\n",
        "Colaboratory는 설치가 필요 없으며 완전히 클라우드에서 실행되는 무료 Jupyter 노트 환경입니다.\n",
        "\n",
        "Colaboratory를 사용하면 브라우저를 통해 무료로 코드를 작성 및 실행하고, 분석을 저장 및 공유하며, 강력한 컴퓨팅 리소스를 이용할 수 있습니다."
      ]
    },
    {
      "cell_type": "code",
      "metadata": {
        "colab_type": "code",
        "id": "xitplqMNk_Hc",
        "outputId": "ed4f60d2-878d-4056-c438-352dac39a112",
        "colab": {
          "height": 420
        }
      },
      "source": [
        "#@title Colaboratory 소개 { display-mode: \"form\" }\n",
        "#@markdown 3분 길이의 동영상을 통해 Colaboratory의 주요 기능을 간단하게 알아보세요.\n",
        "from IPython.display import YouTubeVideo\n",
        "YouTubeVideo('inN8seMm7UI', width=600, height=400)"
      ],
      "execution_count": 0,
      "outputs": [
        {
          "output_type": "execute_result",
          "data": {
            "text/html": [
              "\n",
              "        <iframe\n",
              "            width=\"600\"\n",
              "            height=\"400\"\n",
              "            src=\"https://www.youtube.com/embed/inN8seMm7UI\"\n",
              "            frameborder=\"0\"\n",
              "            allowfullscreen\n",
              "        ></iframe>\n",
              "        "
            ],
            "text/plain": [
              "<IPython.lib.display.YouTubeVideo at 0x7f956e9dda50>"
            ]
          },
          "metadata": {
            "tags": []
          },
          "execution_count": 0
        }
      ]
    },
    {
      "cell_type": "markdown",
      "metadata": {
        "colab_type": "text",
        "id": "GJBs_flRovLc"
      },
      "source": [
        "## 시작하기\n",
        "\n",
        "지금 읽고 계신 문서는 Colaboratory에 호스팅된 <a href=\"https://jupyter.org/\">Jupyter 노트</a>입니다. 정적인 페이지가 아닌, Python 등의 언어로 코드를 작성하고 실행할 수 있는 대화형 환경입니다.\n",
        "\n",
        "예를 들어 다음은 값을 계산하여 변수로 저장하고 결과를 출력하는 간단한 Python 스크립트가 포함된 <strong>코드 셀</strong>입니다."
      ]
    },
    {
      "cell_type": "code",
      "metadata": {
        "colab_type": "code",
        "id": "gJr_9dXGpJ05",
        "outputId": "32a00df9-75ca-436e-e183-c00dd1a9d23a",
        "colab": {
          "base_uri": "https://localhost:8080/",
          "height": 34
        }
      },
      "source": [
        "seconds_in_a_day = 24 * 60 * 60\n",
        "seconds_in_a_day"
      ],
      "execution_count": 1,
      "outputs": [
        {
          "output_type": "execute_result",
          "data": {
            "text/plain": [
              "86400"
            ]
          },
          "metadata": {
            "tags": []
          },
          "execution_count": 1
        }
      ]
    },
    {
      "cell_type": "markdown",
      "metadata": {
        "colab_type": "text",
        "id": "2fhs6GZ4qFMx"
      },
      "source": [
        "위 셀의 코드를 실행하려면 셀을 클릭하여 선택한 후, 코드 왼쪽의 실행 버튼을 누르거나 단축키 'Command/Ctrl+Enter'를 사용합니다.\n",
        "\n",
        "모든 셀은 동일한 전역 상태를 수정하므로 셀을 실행하여 정의되는 변수는 다른 셀에서도 사용할 수 있습니다."
      ]
    },
    {
      "cell_type": "code",
      "metadata": {
        "colab_type": "code",
        "id": "-gE-Ez1qtyIA",
        "outputId": "8d2e4259-4682-4e19-b683-7b9087f28820",
        "colab": {
          "height": 35
        }
      },
      "source": [
        "seconds_in_a_week = 7 * seconds_in_a_day\n",
        "seconds_in_a_week"
      ],
      "execution_count": 0,
      "outputs": [
        {
          "output_type": "execute_result",
          "data": {
            "text/plain": [
              "604800"
            ]
          },
          "metadata": {
            "tags": []
          },
          "execution_count": 0
        }
      ]
    },
    {
      "cell_type": "markdown",
      "metadata": {
        "colab_type": "text",
        "id": "lSrWNr3MuFUS"
      },
      "source": [
        "Colaboratory 노트 사용 방법을 자세히 알아보려면 <a href=\"/notebooks/basic_features_overview.ipynb\">Colaboratory 개요</a>를 참조하세요.\n"
      ]
    },
    {
      "cell_type": "markdown",
      "metadata": {
        "colab_type": "text",
        "id": "-Rh3-Vt9Nev9"
      },
      "source": [
        "## 추가 리소스\n",
        "\n",
        "다음 리소스를 통해 Python, Jupyter, Colaboratory 및 관련 도구를 최대한 활용하는 방법을 알아보세요.\n",
        "\n",
        "### Colaboratory에서 노트로 작업하기\n",
        "- [Colaboratory 개요](/notebooks/basic_features_overview.ipynb)\n",
        "- [Markdown 가이드](/notebooks/markdown_guide.ipynb)\n",
        "- [라이브러리 가져오기 및 종속 항목 설치하기](/notebooks/snippets/importing_libraries.ipynb)\n",
        "- [GitHub에서 노트 저장 및 로드하기](https://colab.research.google.com/github/googlecolab/colabtools/blob/master/notebooks/colab-github-demo.ipynb)\n",
        "- [대화형 양식](/notebooks/forms.ipynb)\n",
        "- [대화형 위젯](/notebooks/widgets.ipynb)\n",
        "- <img src=\"/img/new.png\" height=\"20px\" align=\"left\" hspace=\"4px\" alt=\"New\"></img>\n",
        " [Colab의 TensorFlow 2](/notebooks/tensorflow_version.ipynb)\n",
        "\n",
        "### 데이터로 작업하기\n",
        "- [데이터 로드: 드라이브, 스프레드시트, Google Cloud Storage](/notebooks/io.ipynb) \n",
        "- [차트: 데이터 시각화하기](/notebooks/charts.ipynb)\n",
        "- [BigQuery 시작하기](/notebooks/bigquery.ipynb)\n",
        "\n",
        "### 머신러닝 단기집중과정\n",
        "다음은 Google 온라인 머신러닝 과정에서 가져온 일부 노트입니다. <a href=\"https://developers.google.com/machine-learning/crash-course/\">전체 과정 웹사이트</a>에서 자세한 내용을 확인하세요.\n",
        "- [Pandas 소개](/notebooks/mlcc/intro_to_pandas.ipynb)\n",
        "- [TensorFlow 개념](/notebooks/mlcc/tensorflow_programming_concepts.ipynb)\n",
        "- [TensorFlow 첫걸음](/notebooks/mlcc/first_steps_with_tensor_flow.ipynb)\n",
        "- [신경망 소개](/notebooks/mlcc/intro_to_neural_nets.ipynb)\n",
        "- [희소 데이터 및 임베딩 소개](/notebooks/mlcc/intro_to_sparse_data_and_embeddings.ipynb)\n",
        "\n",
        "### 가속 하드웨어 사용하기\n",
        "- [GPU를 사용한 TensorFlow](/notebooks/gpu.ipynb)\n",
        "- [TPU를 사용한 TensorFlow](/notebooks/tpu.ipynb)"
      ]
    },
    {
      "cell_type": "markdown",
      "metadata": {
        "colab_type": "text",
        "id": "P-H6Lw1vyNNd"
      },
      "source": [
        "## 머신러닝 예제: Seedbank\n",
        "\n",
        "Colaboratory 덕분에 가능해진 대화형 머신러닝 분석의 예시를 자세히 살펴보려면 <a href=\"https://research.google.com/seedbank/\">Seedbank</a> 프로젝트를 확인하세요.\n",
        "\n",
        "일부 추천 예시는 다음과 같습니다.\n",
        "\n",
        "- <a href=\"https://research.google.com/seedbank/seed/neural_style_transfer_with_tfkeras\">신경망 스타일 이전</a>: 딥 러닝을 사용하여 이미지 간에 스타일을 이전합니다.\n",
        "- <a href=\"https://research.google.com/seedbank/seed/ez_nsynth\">EZ NSynth</a>: WaveNet 자동 인코더로 오디오를 합성합니다.\n",
        "- <a href=\"https://research.google.com/seedbank/seed/fashion_mnist_with_keras_and_tpus\">Keras 및 TPU를 사용한 Fashion MNIST</a>: 딥 러닝으로 패션 관련 이미지를 분류합니다.\n",
        "- <a href=\"https://research.google.com/seedbank/seed/deepdream\">DeepDream</a>: 내 사진으로 DeepDream 이미지를 만듭니다.\n",
        "- <a href=\"https://research.google.com/seedbank/seed/convolutional_vae\">컨볼루션 VAE</a>: 손으로 쓴 숫자의 생성 모델을 만듭니다."
      ]
    }
  ]
}